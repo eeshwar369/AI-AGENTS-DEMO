from openai import OpenAI
client = OpenAI(model="gpt-4-turbo")
  
assistant = client.beta.assistants.create(
  name="Math Tutor",
  instructions="You are a personal math tutor. Write and run code to answer math questions.",
  tools=[{"type": "code_interpreter"}],
  model="gpt-4-turbo",
)
